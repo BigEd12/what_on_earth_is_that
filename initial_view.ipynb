{
 "cells": [
  {
   "cell_type": "markdown",
   "id": "aa4162fa",
   "metadata": {},
   "source": [
    "##### imports"
   ]
  },
  {
   "cell_type": "code",
   "execution_count": 1,
   "id": "85d7fc55",
   "metadata": {},
   "outputs": [],
   "source": [
    "import pandas as pd\n",
    "import os\n",
    "import matplotlib.pyplot as plt\n",
    "import seaborn as sns\n",
    "\n",
    "import skimage\n",
    "\n",
    "%load_ext autoreload\n",
    "%autoreload 2"
   ]
  },
  {
   "cell_type": "markdown",
   "id": "6dbafc73",
   "metadata": {},
   "source": [
    "### Preprocessing"
   ]
  },
  {
   "cell_type": "code",
   "execution_count": 2,
   "id": "4be38c41",
   "metadata": {},
   "outputs": [],
   "source": [
    "def names_from_dir(dir_name):\n",
    "    \"\"\"\n",
    "    Take a directory path and returns all file names within the dir as a list\n",
    "    \"\"\"\n",
    "    df_name_list = []\n",
    "    for (dir_path, dir_names, file_names) in os.walk('data/'):\n",
    "        df_name_list.extend(file_names)\n",
    "    return df_name_list"
   ]
  },
  {
   "cell_type": "code",
   "execution_count": 3,
   "id": "f61f7235",
   "metadata": {
    "scrolled": true
   },
   "outputs": [],
   "source": [
    "def preprocessing(file_names):\n",
    "    \"\"\"\n",
    "    Input: list of file names\n",
    "    \n",
    "    -Drops unnecessary column\n",
    "    -Renames '0' to 'image_url'\n",
    "    -Adds target column\n",
    "    \n",
    "    Output: list of DF\n",
    "    \"\"\"\n",
    "    dfs = []\n",
    "    for name in file_names:\n",
    "        df = pd.read_csv(f'data/{name}')\n",
    "\n",
    "\n",
    "        # Drops unneeded column\n",
    "        df.drop(columns='Unnamed: 0', inplace=True)\n",
    "\n",
    "        # Rename column \n",
    "        mapper = {\n",
    "            '0': 'image_url'\n",
    "        }\n",
    "        df.rename(columns=mapper, inplace=True)\n",
    "\n",
    "        # Add target column\n",
    "        df['plant'] = name.split('.')[0]\n",
    "\n",
    "        dfs.append(df)\n",
    "    return dfs"
   ]
  },
  {
   "cell_type": "code",
   "execution_count": 4,
   "id": "ceca67ff",
   "metadata": {},
   "outputs": [],
   "source": [
    "def v_stack_df(list_df):\n",
    "    \"\"\"\n",
    "    Input: list od DataFrames\n",
    "    \n",
    "    -V Stack all DF's into one\n",
    "    \n",
    "    Output: Single DataFrame\n",
    "    \"\"\"\n",
    "    return pd.concat(list_df, axis=0, ignore_index=True)"
   ]
  },
  {
   "cell_type": "markdown",
   "id": "0d9a5896",
   "metadata": {},
   "source": [
    "## Create one DataFrame"
   ]
  },
  {
   "cell_type": "code",
   "execution_count": 5,
   "id": "9cc7c6a3",
   "metadata": {},
   "outputs": [
    {
     "data": {
      "text/html": [
       "<div>\n",
       "<style scoped>\n",
       "    .dataframe tbody tr th:only-of-type {\n",
       "        vertical-align: middle;\n",
       "    }\n",
       "\n",
       "    .dataframe tbody tr th {\n",
       "        vertical-align: top;\n",
       "    }\n",
       "\n",
       "    .dataframe thead th {\n",
       "        text-align: right;\n",
       "    }\n",
       "</style>\n",
       "<table border=\"1\" class=\"dataframe\">\n",
       "  <thead>\n",
       "    <tr style=\"text-align: right;\">\n",
       "      <th></th>\n",
       "      <th>image_url</th>\n",
       "      <th>plant</th>\n",
       "    </tr>\n",
       "  </thead>\n",
       "  <tbody>\n",
       "    <tr>\n",
       "      <th>0</th>\n",
       "      <td>https://garden.org/pics/2020-05-30/piksihk/da4...</td>\n",
       "      <td>Rain Lilies</td>\n",
       "    </tr>\n",
       "    <tr>\n",
       "      <th>1</th>\n",
       "      <td>https://garden.org/pics/2018-07-27/piksihk/41f...</td>\n",
       "      <td>Rain Lilies</td>\n",
       "    </tr>\n",
       "    <tr>\n",
       "      <th>2</th>\n",
       "      <td>https://garden.org/pics/2022-07-26/TexasPlumer...</td>\n",
       "      <td>Rain Lilies</td>\n",
       "    </tr>\n",
       "    <tr>\n",
       "      <th>3</th>\n",
       "      <td>https://garden.org/pics/2016-06-09/jmorth/6b75...</td>\n",
       "      <td>Rain Lilies</td>\n",
       "    </tr>\n",
       "    <tr>\n",
       "      <th>4</th>\n",
       "      <td>https://garden.org/pics/2018-04-08/tx_flower_c...</td>\n",
       "      <td>Rain Lilies</td>\n",
       "    </tr>\n",
       "  </tbody>\n",
       "</table>\n",
       "</div>"
      ],
      "text/plain": [
       "                                           image_url        plant\n",
       "0  https://garden.org/pics/2020-05-30/piksihk/da4...  Rain Lilies\n",
       "1  https://garden.org/pics/2018-07-27/piksihk/41f...  Rain Lilies\n",
       "2  https://garden.org/pics/2022-07-26/TexasPlumer...  Rain Lilies\n",
       "3  https://garden.org/pics/2016-06-09/jmorth/6b75...  Rain Lilies\n",
       "4  https://garden.org/pics/2018-04-08/tx_flower_c...  Rain Lilies"
      ]
     },
     "execution_count": 5,
     "metadata": {},
     "output_type": "execute_result"
    }
   ],
   "source": [
    "file_names = names_from_dir('data/')\n",
    "test_file_names = ['Abelias.csv', 'Abutilons.csv']\n",
    "\n",
    "df = v_stack_df(preprocessing(file_names))\n",
    "\n",
    "df.head()"
   ]
  },
  {
   "cell_type": "code",
   "execution_count": 6,
   "id": "89631a0e",
   "metadata": {},
   "outputs": [
    {
     "data": {
      "text/html": [
       "<div>\n",
       "<style scoped>\n",
       "    .dataframe tbody tr th:only-of-type {\n",
       "        vertical-align: middle;\n",
       "    }\n",
       "\n",
       "    .dataframe tbody tr th {\n",
       "        vertical-align: top;\n",
       "    }\n",
       "\n",
       "    .dataframe thead th {\n",
       "        text-align: right;\n",
       "    }\n",
       "</style>\n",
       "<table border=\"1\" class=\"dataframe\">\n",
       "  <thead>\n",
       "    <tr style=\"text-align: right;\">\n",
       "      <th></th>\n",
       "      <th>plant</th>\n",
       "      <th>count</th>\n",
       "    </tr>\n",
       "  </thead>\n",
       "  <tbody>\n",
       "    <tr>\n",
       "      <th>0</th>\n",
       "      <td>Lilies</td>\n",
       "      <td>613</td>\n",
       "    </tr>\n",
       "    <tr>\n",
       "      <th>1</th>\n",
       "      <td>Sempervivum</td>\n",
       "      <td>584</td>\n",
       "    </tr>\n",
       "    <tr>\n",
       "      <th>2</th>\n",
       "      <td>Roses</td>\n",
       "      <td>564</td>\n",
       "    </tr>\n",
       "    <tr>\n",
       "      <th>3</th>\n",
       "      <td>Daylilies</td>\n",
       "      <td>563</td>\n",
       "    </tr>\n",
       "    <tr>\n",
       "      <th>4</th>\n",
       "      <td>Irises</td>\n",
       "      <td>527</td>\n",
       "    </tr>\n",
       "  </tbody>\n",
       "</table>\n",
       "</div>"
      ],
      "text/plain": [
       "         plant  count\n",
       "0       Lilies    613\n",
       "1  Sempervivum    584\n",
       "2        Roses    564\n",
       "3    Daylilies    563\n",
       "4       Irises    527"
      ]
     },
     "execution_count": 6,
     "metadata": {},
     "output_type": "execute_result"
    }
   ],
   "source": [
    "plant_types = pd.DataFrame(df.plant.value_counts())\n",
    "plant_types.reset_index(drop=False, inplace=True)\n",
    "plant_types.head()"
   ]
  },
  {
   "cell_type": "code",
   "execution_count": 7,
   "id": "0d75f371",
   "metadata": {},
   "outputs": [
    {
     "data": {
      "text/plain": [
       "<AxesSubplot:xlabel='plant', ylabel='count'>"
      ]
     },
     "execution_count": 7,
     "metadata": {},
     "output_type": "execute_result"
    },
    {
     "data": {
      "image/png": "[encoded data removed]",
      "text/plain": [
       "<Figure size 1400x600 with 1 Axes>"
      ]
     },
     "metadata": {},
     "output_type": "display_data"
    }
   ],
   "source": [
    "plt.figure(figsize=(14, 6))  # Optional: Set the figure size\n",
    "sns.barplot(x='plant', y='count', data=plant_types)"
   ]
  },
  {
   "cell_type": "code",
   "execution_count": 8,
   "id": "fb70fe74",
   "metadata": {},
   "outputs": [
    {
     "data": {
      "text/html": [
       "<div>\n",
       "<style scoped>\n",
       "    .dataframe tbody tr th:only-of-type {\n",
       "        vertical-align: middle;\n",
       "    }\n",
       "\n",
       "    .dataframe tbody tr th {\n",
       "        vertical-align: top;\n",
       "    }\n",
       "\n",
       "    .dataframe thead th {\n",
       "        text-align: right;\n",
       "    }\n",
       "</style>\n",
       "<table border=\"1\" class=\"dataframe\">\n",
       "  <thead>\n",
       "    <tr style=\"text-align: right;\">\n",
       "      <th></th>\n",
       "      <th>plant</th>\n",
       "      <th>count</th>\n",
       "    </tr>\n",
       "  </thead>\n",
       "  <tbody>\n",
       "    <tr>\n",
       "      <th>0</th>\n",
       "      <td>Lilies</td>\n",
       "      <td>613</td>\n",
       "    </tr>\n",
       "    <tr>\n",
       "      <th>1</th>\n",
       "      <td>Sempervivum</td>\n",
       "      <td>584</td>\n",
       "    </tr>\n",
       "    <tr>\n",
       "      <th>2</th>\n",
       "      <td>Roses</td>\n",
       "      <td>564</td>\n",
       "    </tr>\n",
       "    <tr>\n",
       "      <th>3</th>\n",
       "      <td>Daylilies</td>\n",
       "      <td>563</td>\n",
       "    </tr>\n",
       "    <tr>\n",
       "      <th>4</th>\n",
       "      <td>Irises</td>\n",
       "      <td>527</td>\n",
       "    </tr>\n",
       "    <tr>\n",
       "      <th>5</th>\n",
       "      <td>Adeniums</td>\n",
       "      <td>519</td>\n",
       "    </tr>\n",
       "  </tbody>\n",
       "</table>\n",
       "</div>"
      ],
      "text/plain": [
       "         plant  count\n",
       "0       Lilies    613\n",
       "1  Sempervivum    584\n",
       "2        Roses    564\n",
       "3    Daylilies    563\n",
       "4       Irises    527\n",
       "5     Adeniums    519"
      ]
     },
     "execution_count": 8,
     "metadata": {},
     "output_type": "execute_result"
    }
   ],
   "source": [
    "over_500 = plant_types[plant_types['count'] > 500]\n",
    "over_500.head(6)"
   ]
  },
  {
   "cell_type": "markdown",
   "id": "cd58235b",
   "metadata": {},
   "source": [
    "# Initial investigation with top 6"
   ]
  },
  {
   "cell_type": "code",
   "execution_count": null,
   "id": "d1dfbce2",
   "metadata": {},
   "outputs": [],
   "source": [
    "file_names = ['Lilies.csv', 'Sempervivum.csv', 'Roses.csv', 'Daylilies.csv', 'Irises.csv', 'Adeniums.csv']\n",
    "\n",
    "top_6 = v_stack_df(preprocessing(file_names))\n",
    "\n",
    "print(f'The 6 plants with the most photos have a total of {top_6.shape[0]} photos')\n",
    "display(top_6.head())"
   ]
  },
  {
   "cell_type": "code",
   "execution_count": 9,
   "id": "5ebd9669",
   "metadata": {},
   "outputs": [],
   "source": [
    "from PIL import Image\n",
    "import requests\n",
    "from io import BytesIO\n",
    "import IPython.display as display"
   ]
  },
  {
   "cell_type": "code",
   "execution_count": 10,
   "id": "db040408",
   "metadata": {},
   "outputs": [
    {
     "data": {
      "text/plain": [
       "'https://garden.org/pics/2020-05-30/piksihk/da4a42-250.jpg'"
      ]
     },
     "execution_count": 10,
     "metadata": {},
     "output_type": "execute_result"
    }
   ],
   "source": [
    "image_url = df.iloc[0]['image_url']\n",
    "image_url"
   ]
  },
  {
   "cell_type": "code",
   "execution_count": 12,
   "id": "0a321772",
   "metadata": {},
   "outputs": [
    {
     "data": {
      "text/plain": [
       "403"
      ]
     },
     "execution_count": 12,
     "metadata": {},
     "output_type": "execute_result"
    }
   ],
   "source": [
    "# Fetch the image from the URL\n",
    "response = requests.get(image_url)\n",
    "response.status_code"
   ]
  },
  {
   "cell_type": "code",
   "execution_count": 11,
   "id": "b07033c8",
   "metadata": {},
   "outputs": [
    {
     "name": "stdout",
     "output_type": "stream",
     "text": [
      "Failed to fetch the image from URL. Status code: 403\n"
     ]
    }
   ],
   "source": [
    "# Check if the request was successful\n",
    "if response.status_code == 200:\n",
    "    # Open the image using Pillow\n",
    "    img = Image.open(BytesIO(response.content))\n",
    "\n",
    "    # Display the image\n",
    "    display.display(img)\n",
    "else:\n",
    "    print(f\"Failed to fetch the image from URL. Status code: {response.status_code}\")"
   ]
  },
  {
   "cell_type": "code",
   "execution_count": null,
   "id": "4ab0e4d0",
   "metadata": {},
   "outputs": [],
   "source": []
  }
 ],
 "metadata": {
  "kernelspec": {
   "display_name": "Python 3 (ipykernel)",
   "language": "python",
   "name": "python3"
  },
  "language_info": {
   "codemirror_mode": {
    "name": "ipython",
    "version": 3
   },
   "file_extension": ".py",
   "mimetype": "text/x-python",
   "name": "python",
   "nbconvert_exporter": "python",
   "pygments_lexer": "ipython3",
   "version": "3.10.6"
  },
  "toc": {
   "base_numbering": 1,
   "nav_menu": {},
   "number_sections": true,
   "sideBar": true,
   "skip_h1_title": false,
   "title_cell": "Table of Contents",
   "title_sidebar": "Contents",
   "toc_cell": false,
   "toc_position": {},
   "toc_section_display": true,
   "toc_window_display": false
  }
 },
 "nbformat": 4,
 "nbformat_minor": 5
}
